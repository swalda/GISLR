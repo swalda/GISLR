{
 "cells": [
  {
   "cell_type": "code",
   "execution_count": 1,
   "id": "92fcbe5c-7621-4f87-b908-aea57f488b4c",
   "metadata": {
    "tags": []
   },
   "outputs": [],
   "source": [
    "import numpy as np\n",
    "import pandas as pd\n",
    "import json\n",
    "import os \n",
    "\n",
    "import torch\n",
    "import torch.nn as nn"
   ]
  },
  {
   "cell_type": "code",
   "execution_count": 2,
   "id": "cf6cd625-7a15-4949-9e5d-c95fbd49a1d1",
   "metadata": {
    "tags": []
   },
   "outputs": [],
   "source": [
    "path_and_labels = pd.read_csv('train.csv')"
   ]
  },
  {
   "cell_type": "code",
   "execution_count": 3,
   "id": "dda38f80-23d9-4d06-aaad-456395286f0d",
   "metadata": {
    "tags": []
   },
   "outputs": [
    {
     "data": {
      "text/html": [
       "<div>\n",
       "<style scoped>\n",
       "    .dataframe tbody tr th:only-of-type {\n",
       "        vertical-align: middle;\n",
       "    }\n",
       "\n",
       "    .dataframe tbody tr th {\n",
       "        vertical-align: top;\n",
       "    }\n",
       "\n",
       "    .dataframe thead th {\n",
       "        text-align: right;\n",
       "    }\n",
       "</style>\n",
       "<table border=\"1\" class=\"dataframe\">\n",
       "  <thead>\n",
       "    <tr style=\"text-align: right;\">\n",
       "      <th></th>\n",
       "      <th>path</th>\n",
       "      <th>participant_id</th>\n",
       "      <th>sequence_id</th>\n",
       "      <th>sign</th>\n",
       "    </tr>\n",
       "  </thead>\n",
       "  <tbody>\n",
       "    <tr>\n",
       "      <th>0</th>\n",
       "      <td>train_landmark_files/26734/1000035562.parquet</td>\n",
       "      <td>26734</td>\n",
       "      <td>1000035562</td>\n",
       "      <td>blow</td>\n",
       "    </tr>\n",
       "    <tr>\n",
       "      <th>1</th>\n",
       "      <td>train_landmark_files/28656/1000106739.parquet</td>\n",
       "      <td>28656</td>\n",
       "      <td>1000106739</td>\n",
       "      <td>wait</td>\n",
       "    </tr>\n",
       "    <tr>\n",
       "      <th>2</th>\n",
       "      <td>train_landmark_files/16069/100015657.parquet</td>\n",
       "      <td>16069</td>\n",
       "      <td>100015657</td>\n",
       "      <td>cloud</td>\n",
       "    </tr>\n",
       "    <tr>\n",
       "      <th>3</th>\n",
       "      <td>train_landmark_files/25571/1000210073.parquet</td>\n",
       "      <td>25571</td>\n",
       "      <td>1000210073</td>\n",
       "      <td>bird</td>\n",
       "    </tr>\n",
       "    <tr>\n",
       "      <th>4</th>\n",
       "      <td>train_landmark_files/62590/1000240708.parquet</td>\n",
       "      <td>62590</td>\n",
       "      <td>1000240708</td>\n",
       "      <td>owie</td>\n",
       "    </tr>\n",
       "  </tbody>\n",
       "</table>\n",
       "</div>"
      ],
      "text/plain": [
       "                                            path  participant_id  sequence_id   \n",
       "0  train_landmark_files/26734/1000035562.parquet           26734   1000035562  \\\n",
       "1  train_landmark_files/28656/1000106739.parquet           28656   1000106739   \n",
       "2   train_landmark_files/16069/100015657.parquet           16069    100015657   \n",
       "3  train_landmark_files/25571/1000210073.parquet           25571   1000210073   \n",
       "4  train_landmark_files/62590/1000240708.parquet           62590   1000240708   \n",
       "\n",
       "    sign  \n",
       "0   blow  \n",
       "1   wait  \n",
       "2  cloud  \n",
       "3   bird  \n",
       "4   owie  "
      ]
     },
     "execution_count": 3,
     "metadata": {},
     "output_type": "execute_result"
    }
   ],
   "source": [
    "path_and_labels.head()"
   ]
  },
  {
   "cell_type": "code",
   "execution_count": 4,
   "id": "b8c207ee-f0c2-485d-aecb-9b222f3da528",
   "metadata": {},
   "outputs": [
    {
     "name": "stdout",
     "output_type": "stream",
     "text": [
      "participant_id\n",
      "49445    4968\n",
      "61333    4900\n",
      "36257    4896\n",
      "16069    4848\n",
      "26734    4841\n",
      "55372    4826\n",
      "2044     4810\n",
      "37779    4782\n",
      "32319    4753\n",
      "29302    4722\n",
      "22343    4677\n",
      "53618    4656\n",
      "37055    4648\n",
      "28656    4563\n",
      "62590    4563\n",
      "34503    4545\n",
      "27610    4275\n",
      "25571    3865\n",
      "18796    3502\n",
      "4718     3499\n",
      "30680    3338\n",
      "Name: count, dtype: int64\n"
     ]
    }
   ],
   "source": [
    "print(path_and_labels['participant_id'].value_counts())"
   ]
  },
  {
   "cell_type": "markdown",
   "id": "158bf753-0a4a-41ad-bf16-dde61884b735",
   "metadata": {},
   "source": [
    "Participant это скорее всего отдельные люди с которых собирались жесты. Для нас тут важно лишь то что данные не с одного человека и даже не с нескольких, тут данные с нескольких десятков участников, наша модель не будет учитывать особенности отдельных людей, более нас ничего в participant пока не интересует. "
   ]
  },
  {
   "cell_type": "code",
   "execution_count": 5,
   "id": "2b379a0f-796f-470b-962c-710ea83e64b1",
   "metadata": {
    "tags": []
   },
   "outputs": [
    {
     "data": {
      "text/html": [
       "<div>\n",
       "<style scoped>\n",
       "    .dataframe tbody tr th:only-of-type {\n",
       "        vertical-align: middle;\n",
       "    }\n",
       "\n",
       "    .dataframe tbody tr th {\n",
       "        vertical-align: top;\n",
       "    }\n",
       "\n",
       "    .dataframe thead th {\n",
       "        text-align: right;\n",
       "    }\n",
       "</style>\n",
       "<table border=\"1\" class=\"dataframe\">\n",
       "  <thead>\n",
       "    <tr style=\"text-align: right;\">\n",
       "      <th></th>\n",
       "      <th>frame</th>\n",
       "      <th>row_id</th>\n",
       "      <th>type</th>\n",
       "      <th>landmark_index</th>\n",
       "      <th>x</th>\n",
       "      <th>y</th>\n",
       "      <th>z</th>\n",
       "    </tr>\n",
       "  </thead>\n",
       "  <tbody>\n",
       "    <tr>\n",
       "      <th>0</th>\n",
       "      <td>20</td>\n",
       "      <td>20-face-0</td>\n",
       "      <td>face</td>\n",
       "      <td>0</td>\n",
       "      <td>0.494400</td>\n",
       "      <td>0.380470</td>\n",
       "      <td>-0.030626</td>\n",
       "    </tr>\n",
       "    <tr>\n",
       "      <th>1</th>\n",
       "      <td>20</td>\n",
       "      <td>20-face-1</td>\n",
       "      <td>face</td>\n",
       "      <td>1</td>\n",
       "      <td>0.496017</td>\n",
       "      <td>0.350735</td>\n",
       "      <td>-0.057565</td>\n",
       "    </tr>\n",
       "    <tr>\n",
       "      <th>2</th>\n",
       "      <td>20</td>\n",
       "      <td>20-face-2</td>\n",
       "      <td>face</td>\n",
       "      <td>2</td>\n",
       "      <td>0.500818</td>\n",
       "      <td>0.359343</td>\n",
       "      <td>-0.030283</td>\n",
       "    </tr>\n",
       "    <tr>\n",
       "      <th>3</th>\n",
       "      <td>20</td>\n",
       "      <td>20-face-3</td>\n",
       "      <td>face</td>\n",
       "      <td>3</td>\n",
       "      <td>0.489788</td>\n",
       "      <td>0.321780</td>\n",
       "      <td>-0.040622</td>\n",
       "    </tr>\n",
       "    <tr>\n",
       "      <th>4</th>\n",
       "      <td>20</td>\n",
       "      <td>20-face-4</td>\n",
       "      <td>face</td>\n",
       "      <td>4</td>\n",
       "      <td>0.495304</td>\n",
       "      <td>0.341821</td>\n",
       "      <td>-0.061152</td>\n",
       "    </tr>\n",
       "  </tbody>\n",
       "</table>\n",
       "</div>"
      ],
      "text/plain": [
       "   frame     row_id  type  landmark_index         x         y         z\n",
       "0     20  20-face-0  face               0  0.494400  0.380470 -0.030626\n",
       "1     20  20-face-1  face               1  0.496017  0.350735 -0.057565\n",
       "2     20  20-face-2  face               2  0.500818  0.359343 -0.030283\n",
       "3     20  20-face-3  face               3  0.489788  0.321780 -0.040622\n",
       "4     20  20-face-4  face               4  0.495304  0.341821 -0.061152"
      ]
     },
     "execution_count": 5,
     "metadata": {},
     "output_type": "execute_result"
    }
   ],
   "source": [
    "k = 0\n",
    "data = pd.read_parquet(path_and_labels.values[k, 0])\n",
    "data.head()"
   ]
  },
  {
   "cell_type": "code",
   "execution_count": 6,
   "id": "bfd73af6-77d7-4b89-9b0d-f9b4aac25029",
   "metadata": {
    "tags": []
   },
   "outputs": [
    {
     "data": {
      "text/plain": [
       "543"
      ]
     },
     "execution_count": 6,
     "metadata": {},
     "output_type": "execute_result"
    }
   ],
   "source": [
    "len(data[data.frame == 20])"
   ]
  },
  {
   "cell_type": "code",
   "execution_count": 7,
   "id": "220b7e5c-9f68-4356-8e33-161a91e2c551",
   "metadata": {
    "tags": []
   },
   "outputs": [
    {
     "data": {
      "text/plain": [
       "type\n",
       "face          468\n",
       "pose           33\n",
       "left_hand      21\n",
       "right_hand     21\n",
       "Name: count, dtype: int64"
      ]
     },
     "execution_count": 7,
     "metadata": {},
     "output_type": "execute_result"
    }
   ],
   "source": [
    "data[data.frame == 20].type.value_counts()"
   ]
  },
  {
   "cell_type": "code",
   "execution_count": 8,
   "id": "fac5a261-385a-47a7-9f8e-277c37f06bba",
   "metadata": {
    "tags": []
   },
   "outputs": [
    {
     "data": {
      "text/plain": [
       "type\n",
       "face          468\n",
       "pose           33\n",
       "left_hand      21\n",
       "right_hand     21\n",
       "Name: count, dtype: int64"
      ]
     },
     "execution_count": 8,
     "metadata": {},
     "output_type": "execute_result"
    }
   ],
   "source": [
    "data[data.frame == 20].type.value_counts()"
   ]
  },
  {
   "cell_type": "code",
   "execution_count": 9,
   "id": "39bdaba7-009f-4e6f-bf35-e9bea78839da",
   "metadata": {
    "tags": []
   },
   "outputs": [
    {
     "name": "stdout",
     "output_type": "stream",
     "text": [
      "[0, 4, 6, 9, 13, 14, 17, 33, 37, 40, 46, 52, 55, 61, 65, 78, 81, 82, 84, 87, 91, 95, 101, 102, 107, 133, 145, 146, 148, 149, 159, 178, 185, 191, 195, 199, 205, 263, 267, 270, 276, 282, 285, 291, 295, 308, 311, 312, 314, 317, 321, 324, 330, 331, 336, 362, 374, 375, 377, 378, 386, 402, 409, 415, 425]\n",
      "\n",
      "[0, 4, 6, 9, 13, 14, 17, 33, 37, 40, 46, 52, 55, 61, 65, 78, 81, 82, 84, 87, 91, 95, 101, 102, 107, 133, 145, 146, 148, 149, 159, 178, 185, 191, 195, 199, 205, 263, 267, 270, 276, 282, 285, 291, 295, 308, 311, 312, 314, 317, 321, 324, 330, 331, 336, 362, 374, 375, 377, 378, 386, 402, 409, 415, 425, 468, 469, 470, 471, 472, 473, 474, 475, 476, 477, 478, 479, 480, 481, 482, 483, 484, 485, 486, 487, 488, 489, 490, 491, 492, 493, 494, 495, 496, 497, 498, 499, 500, 501, 502, 503, 504, 505, 506, 507, 508, 509, 510, 511, 512, 513, 514, 515, 516, 517, 518, 519, 520, 521, 522, 523, 524, 525, 526, 527, 528, 529, 530, 531, 532, 533, 534, 535, 536, 537, 538, 539, 540, 541, 542]\n",
      "140\n"
     ]
    }
   ],
   "source": [
    "face_points = [0, 4, 6, 9, 13, 14, 17, 33, 37, 40, 46, 52, 55,\n",
    "               61, 65, 78, 81, 82, 84, 87, 91, 95, 101, 102, 107,\n",
    "               133, 145, 146, 148, 149, 159, 178, 185, 191, 195,\n",
    "               199, 205, 263, 267, 270, 276, 282, 285, 291, 295,\n",
    "               308, 311, 312, 314, 317, 321, 324, 330, 331, 336,\n",
    "               362, 374, 375, 377, 378, 386, 402, 409, 415, 425]\n",
    "\n",
    "print(face_points)\n",
    "print()\n",
    "points = [*face_points, *range(468, 543)]\n",
    "print(points)\n",
    "print(len(points))"
   ]
  },
  {
   "cell_type": "code",
   "execution_count": 10,
   "id": "c468ecd2-189a-4c88-8f83-87d7164296a5",
   "metadata": {
    "tags": []
   },
   "outputs": [
    {
     "name": "stdout",
     "output_type": "stream",
     "text": [
      "torch.Size([1, 543, 3])\n",
      "torch.Size([1, 140, 3])\n",
      "torch.Size([1, 420])\n"
     ]
    }
   ],
   "source": [
    "k = 0\n",
    "\n",
    "data = pd.read_parquet(path_and_labels.values[k, 0])\n",
    "A = data.loc[data.frame == data.frame.value_counts().index[0],[\"x\", \"y\", \"z\"]]\n",
    "\n",
    "A = A.to_numpy().reshape(1, 543, 3)\n",
    "A = torch.tensor(A, dtype = torch.float32)\n",
    "print(A.shape)\n",
    "\n",
    "A = A[:, points]\n",
    "print(A.shape)\n",
    "\n",
    "A = A.reshape(1, -1)\n",
    "print(A.shape)"
   ]
  },
  {
   "cell_type": "code",
   "execution_count": 11,
   "id": "0930b7c2-0b59-4c0b-9a6c-f1f9864d99c6",
   "metadata": {
    "tags": []
   },
   "outputs": [
    {
     "name": "stdout",
     "output_type": "stream",
     "text": [
      "torch.Size([23, 543, 3])\n",
      "torch.Size([23, 140, 3])\n",
      "torch.Size([23, 420])\n"
     ]
    }
   ],
   "source": [
    "k = 0\n",
    "\n",
    "data = pd.read_parquet(path_and_labels.values[k, 0])\n",
    "B = data.loc[:,[\"x\", \"y\", \"z\"]]\n",
    "\n",
    "B = B.to_numpy().reshape(len(data)//543, 543, 3)\n",
    "B = torch.tensor(B, dtype=torch.float32)\n",
    "print(B.shape)\n",
    "\n",
    "B = B[:, points]\n",
    "print(B.shape)\n",
    "\n",
    "B = B.reshape(B.shape[0], -1)\n",
    "print(B.shape)"
   ]
  },
  {
   "cell_type": "code",
   "execution_count": 12,
   "id": "70a7f799-d530-4771-adb5-844ee44565d5",
   "metadata": {
    "tags": []
   },
   "outputs": [],
   "source": [
    "train_data = path_and_labels.copy()"
   ]
  },
  {
   "cell_type": "code",
   "execution_count": 13,
   "id": "3cb180f8-acae-4b47-a94c-609b06a02005",
   "metadata": {
    "tags": []
   },
   "outputs": [
    {
     "name": "stdout",
     "output_type": "stream",
     "text": [
      "make: train_data/49445\n",
      "make: train_data/61333\n",
      "make: train_data/36257\n",
      "make: train_data/16069\n",
      "make: train_data/26734\n",
      "make: train_data/55372\n",
      "make: train_data/2044\n",
      "make: train_data/37779\n",
      "make: train_data/32319\n",
      "make: train_data/29302\n",
      "make: train_data/22343\n",
      "make: train_data/53618\n",
      "make: train_data/37055\n",
      "make: train_data/28656\n",
      "make: train_data/62590\n",
      "make: train_data/34503\n",
      "make: train_data/27610\n",
      "make: train_data/25571\n",
      "make: train_data/18796\n",
      "make: train_data/4718\n",
      "make: train_data/30680\n"
     ]
    }
   ],
   "source": [
    "partic_list = path_and_labels['participant_id'].value_counts().index\n",
    "for partic in partic_list:\n",
    "    \n",
    "    directory = \"train_data/\" + str(partic)\n",
    "    if not os.path.exists(directory):\n",
    "        os.makedirs(directory)\n",
    "        print(\"make:\", directory)\n"
   ]
  },
  {
   "cell_type": "code",
   "execution_count": 14,
   "id": "0cedc335-abd9-4aee-b0d7-a21b46cf7555",
   "metadata": {},
   "outputs": [
    {
     "name": "stdout",
     "output_type": "stream",
     "text": [
      "0\n",
      "1000\n",
      "2000\n",
      "3000\n",
      "4000\n",
      "5000\n",
      "6000\n",
      "7000\n",
      "8000\n",
      "9000\n",
      "10000\n",
      "11000\n",
      "12000\n",
      "13000\n",
      "14000\n",
      "15000\n",
      "16000\n",
      "17000\n",
      "18000\n",
      "19000\n",
      "20000\n",
      "21000\n",
      "22000\n",
      "23000\n",
      "24000\n",
      "25000\n",
      "26000\n",
      "27000\n",
      "28000\n",
      "29000\n",
      "30000\n",
      "31000\n",
      "32000\n",
      "33000\n",
      "34000\n",
      "35000\n",
      "36000\n",
      "37000\n",
      "38000\n",
      "39000\n",
      "40000\n",
      "41000\n",
      "42000\n",
      "43000\n",
      "44000\n",
      "45000\n",
      "46000\n",
      "47000\n",
      "48000\n",
      "49000\n",
      "50000\n",
      "51000\n",
      "52000\n",
      "53000\n",
      "54000\n",
      "55000\n",
      "56000\n",
      "57000\n",
      "58000\n",
      "59000\n",
      "60000\n",
      "61000\n",
      "62000\n",
      "63000\n",
      "64000\n",
      "65000\n",
      "66000\n",
      "67000\n",
      "68000\n",
      "69000\n",
      "70000\n",
      "71000\n",
      "72000\n",
      "73000\n",
      "74000\n",
      "75000\n",
      "76000\n",
      "77000\n",
      "78000\n",
      "79000\n",
      "80000\n",
      "81000\n",
      "82000\n",
      "83000\n",
      "84000\n",
      "85000\n",
      "86000\n",
      "87000\n",
      "88000\n",
      "89000\n",
      "90000\n",
      "91000\n",
      "92000\n",
      "93000\n",
      "94000\n"
     ]
    }
   ],
   "source": [
    "for i in range(len(path_and_labels)):\n",
    "    path = path_and_labels.values[i, 0]\n",
    "    \n",
    "    data = pd.read_parquet(path)\n",
    "    data = data.loc[:,[\"x\", \"y\", \"z\"]]    \n",
    "    data = data.to_numpy().reshape(len(data)//543, 543, 3)[:, points]\n",
    "    data = data.reshape(data.shape[0], -1)\n",
    "    np.nan_to_num(data, nan=0)\n",
    "    \n",
    "    path = path.split(\"/\")\n",
    "    path[0] = \"train_data\"\n",
    "    path[-1] = path[-1][:-8]\n",
    "    path = \"/\".join(path) \n",
    "    path = path + '.npy'\n",
    "    \n",
    "    train_data.iloc[i, 0] = path\n",
    "    \n",
    "    np.save(path, data)\n",
    "    \n",
    "    if i % 1000 == 0:\n",
    "        print(i)"
   ]
  },
  {
   "cell_type": "code",
   "execution_count": 15,
   "id": "31f4592c-b6c1-4915-a548-aef7dbfdef26",
   "metadata": {},
   "outputs": [
    {
     "data": {
      "text/html": [
       "<div>\n",
       "<style scoped>\n",
       "    .dataframe tbody tr th:only-of-type {\n",
       "        vertical-align: middle;\n",
       "    }\n",
       "\n",
       "    .dataframe tbody tr th {\n",
       "        vertical-align: top;\n",
       "    }\n",
       "\n",
       "    .dataframe thead th {\n",
       "        text-align: right;\n",
       "    }\n",
       "</style>\n",
       "<table border=\"1\" class=\"dataframe\">\n",
       "  <thead>\n",
       "    <tr style=\"text-align: right;\">\n",
       "      <th></th>\n",
       "      <th>path</th>\n",
       "      <th>participant_id</th>\n",
       "      <th>sequence_id</th>\n",
       "      <th>sign</th>\n",
       "    </tr>\n",
       "  </thead>\n",
       "  <tbody>\n",
       "    <tr>\n",
       "      <th>0</th>\n",
       "      <td>train_data/26734/1000035562.npy</td>\n",
       "      <td>26734</td>\n",
       "      <td>1000035562</td>\n",
       "      <td>blow</td>\n",
       "    </tr>\n",
       "    <tr>\n",
       "      <th>1</th>\n",
       "      <td>train_data/28656/1000106739.npy</td>\n",
       "      <td>28656</td>\n",
       "      <td>1000106739</td>\n",
       "      <td>wait</td>\n",
       "    </tr>\n",
       "    <tr>\n",
       "      <th>2</th>\n",
       "      <td>train_data/16069/100015657.npy</td>\n",
       "      <td>16069</td>\n",
       "      <td>100015657</td>\n",
       "      <td>cloud</td>\n",
       "    </tr>\n",
       "    <tr>\n",
       "      <th>3</th>\n",
       "      <td>train_data/25571/1000210073.npy</td>\n",
       "      <td>25571</td>\n",
       "      <td>1000210073</td>\n",
       "      <td>bird</td>\n",
       "    </tr>\n",
       "    <tr>\n",
       "      <th>4</th>\n",
       "      <td>train_data/62590/1000240708.npy</td>\n",
       "      <td>62590</td>\n",
       "      <td>1000240708</td>\n",
       "      <td>owie</td>\n",
       "    </tr>\n",
       "    <tr>\n",
       "      <th>...</th>\n",
       "      <td>...</td>\n",
       "      <td>...</td>\n",
       "      <td>...</td>\n",
       "      <td>...</td>\n",
       "    </tr>\n",
       "    <tr>\n",
       "      <th>94472</th>\n",
       "      <td>train_data/53618/999786174.npy</td>\n",
       "      <td>53618</td>\n",
       "      <td>999786174</td>\n",
       "      <td>white</td>\n",
       "    </tr>\n",
       "    <tr>\n",
       "      <th>94473</th>\n",
       "      <td>train_data/26734/999799849.npy</td>\n",
       "      <td>26734</td>\n",
       "      <td>999799849</td>\n",
       "      <td>have</td>\n",
       "    </tr>\n",
       "    <tr>\n",
       "      <th>94474</th>\n",
       "      <td>train_data/25571/999833418.npy</td>\n",
       "      <td>25571</td>\n",
       "      <td>999833418</td>\n",
       "      <td>flower</td>\n",
       "    </tr>\n",
       "    <tr>\n",
       "      <th>94475</th>\n",
       "      <td>train_data/29302/999895257.npy</td>\n",
       "      <td>29302</td>\n",
       "      <td>999895257</td>\n",
       "      <td>room</td>\n",
       "    </tr>\n",
       "    <tr>\n",
       "      <th>94476</th>\n",
       "      <td>train_data/36257/999962374.npy</td>\n",
       "      <td>36257</td>\n",
       "      <td>999962374</td>\n",
       "      <td>happy</td>\n",
       "    </tr>\n",
       "  </tbody>\n",
       "</table>\n",
       "<p>94477 rows × 4 columns</p>\n",
       "</div>"
      ],
      "text/plain": [
       "                                  path  participant_id  sequence_id    sign\n",
       "0      train_data/26734/1000035562.npy           26734   1000035562    blow\n",
       "1      train_data/28656/1000106739.npy           28656   1000106739    wait\n",
       "2       train_data/16069/100015657.npy           16069    100015657   cloud\n",
       "3      train_data/25571/1000210073.npy           25571   1000210073    bird\n",
       "4      train_data/62590/1000240708.npy           62590   1000240708    owie\n",
       "...                                ...             ...          ...     ...\n",
       "94472   train_data/53618/999786174.npy           53618    999786174   white\n",
       "94473   train_data/26734/999799849.npy           26734    999799849    have\n",
       "94474   train_data/25571/999833418.npy           25571    999833418  flower\n",
       "94475   train_data/29302/999895257.npy           29302    999895257    room\n",
       "94476   train_data/36257/999962374.npy           36257    999962374   happy\n",
       "\n",
       "[94477 rows x 4 columns]"
      ]
     },
     "execution_count": 15,
     "metadata": {},
     "output_type": "execute_result"
    }
   ],
   "source": [
    "train_data"
   ]
  },
  {
   "cell_type": "code",
   "execution_count": 19,
   "id": "d1702508-0a28-4c1f-b54b-af9944833954",
   "metadata": {
    "tags": []
   },
   "outputs": [],
   "source": [
    "train_data.to_csv(\"train_table.csv\", index=False)"
   ]
  },
  {
   "cell_type": "code",
   "execution_count": null,
   "id": "d342fafa-e749-487b-ad81-2326acbe44c3",
   "metadata": {},
   "outputs": [],
   "source": []
  }
 ],
 "metadata": {
  "kernelspec": {
   "display_name": "Python 3 (ipykernel)",
   "language": "python",
   "name": "python3"
  },
  "language_info": {
   "codemirror_mode": {
    "name": "ipython",
    "version": 3
   },
   "file_extension": ".py",
   "mimetype": "text/x-python",
   "name": "python",
   "nbconvert_exporter": "python",
   "pygments_lexer": "ipython3",
   "version": "3.9.0"
  }
 },
 "nbformat": 4,
 "nbformat_minor": 5
}
