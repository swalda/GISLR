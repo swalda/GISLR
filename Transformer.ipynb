{
 "cells": [
  {
   "cell_type": "code",
   "execution_count": 1,
   "id": "0e6d5939",
   "metadata": {
    "tags": []
   },
   "outputs": [],
   "source": [
    "import pandas as pd\n",
    "import numpy as np\n",
    "import torch\n",
    "import torch.nn as nn\n",
    "import torchinfo"
   ]
  },
  {
   "cell_type": "code",
   "execution_count": 2,
   "id": "d9c5b2ba",
   "metadata": {
    "tags": []
   },
   "outputs": [],
   "source": [
    "path_and_labels = pd.read_csv('train.csv')"
   ]
  },
  {
   "cell_type": "code",
   "execution_count": 3,
   "id": "9d52d5c9",
   "metadata": {
    "tags": []
   },
   "outputs": [
    {
     "data": {
      "text/html": [
       "<div>\n",
       "<style scoped>\n",
       "    .dataframe tbody tr th:only-of-type {\n",
       "        vertical-align: middle;\n",
       "    }\n",
       "\n",
       "    .dataframe tbody tr th {\n",
       "        vertical-align: top;\n",
       "    }\n",
       "\n",
       "    .dataframe thead th {\n",
       "        text-align: right;\n",
       "    }\n",
       "</style>\n",
       "<table border=\"1\" class=\"dataframe\">\n",
       "  <thead>\n",
       "    <tr style=\"text-align: right;\">\n",
       "      <th></th>\n",
       "      <th>path</th>\n",
       "      <th>participant_id</th>\n",
       "      <th>sequence_id</th>\n",
       "      <th>sign</th>\n",
       "    </tr>\n",
       "  </thead>\n",
       "  <tbody>\n",
       "    <tr>\n",
       "      <th>0</th>\n",
       "      <td>train_landmark_files/26734/1000035562.parquet</td>\n",
       "      <td>26734</td>\n",
       "      <td>1000035562</td>\n",
       "      <td>blow</td>\n",
       "    </tr>\n",
       "    <tr>\n",
       "      <th>1</th>\n",
       "      <td>train_landmark_files/28656/1000106739.parquet</td>\n",
       "      <td>28656</td>\n",
       "      <td>1000106739</td>\n",
       "      <td>wait</td>\n",
       "    </tr>\n",
       "    <tr>\n",
       "      <th>2</th>\n",
       "      <td>train_landmark_files/16069/100015657.parquet</td>\n",
       "      <td>16069</td>\n",
       "      <td>100015657</td>\n",
       "      <td>cloud</td>\n",
       "    </tr>\n",
       "    <tr>\n",
       "      <th>3</th>\n",
       "      <td>train_landmark_files/25571/1000210073.parquet</td>\n",
       "      <td>25571</td>\n",
       "      <td>1000210073</td>\n",
       "      <td>bird</td>\n",
       "    </tr>\n",
       "    <tr>\n",
       "      <th>4</th>\n",
       "      <td>train_landmark_files/62590/1000240708.parquet</td>\n",
       "      <td>62590</td>\n",
       "      <td>1000240708</td>\n",
       "      <td>owie</td>\n",
       "    </tr>\n",
       "  </tbody>\n",
       "</table>\n",
       "</div>"
      ],
      "text/plain": [
       "                                            path  participant_id  sequence_id   \n",
       "0  train_landmark_files/26734/1000035562.parquet           26734   1000035562  \\\n",
       "1  train_landmark_files/28656/1000106739.parquet           28656   1000106739   \n",
       "2   train_landmark_files/16069/100015657.parquet           16069    100015657   \n",
       "3  train_landmark_files/25571/1000210073.parquet           25571   1000210073   \n",
       "4  train_landmark_files/62590/1000240708.parquet           62590   1000240708   \n",
       "\n",
       "    sign  \n",
       "0   blow  \n",
       "1   wait  \n",
       "2  cloud  \n",
       "3   bird  \n",
       "4   owie  "
      ]
     },
     "execution_count": 3,
     "metadata": {},
     "output_type": "execute_result"
    }
   ],
   "source": [
    "path_and_labels.head()"
   ]
  },
  {
   "cell_type": "code",
   "execution_count": 4,
   "id": "f94acb49",
   "metadata": {
    "scrolled": true,
    "tags": []
   },
   "outputs": [
    {
     "name": "stdout",
     "output_type": "stream",
     "text": [
      "participant_id\n",
      "49445    4968\n",
      "61333    4900\n",
      "36257    4896\n",
      "16069    4848\n",
      "26734    4841\n",
      "55372    4826\n",
      "2044     4810\n",
      "37779    4782\n",
      "32319    4753\n",
      "29302    4722\n",
      "22343    4677\n",
      "53618    4656\n",
      "37055    4648\n",
      "28656    4563\n",
      "62590    4563\n",
      "34503    4545\n",
      "27610    4275\n",
      "25571    3865\n",
      "18796    3502\n",
      "4718     3499\n",
      "30680    3338\n",
      "Name: count, dtype: int64\n"
     ]
    }
   ],
   "source": [
    "print(path_and_labels['participant_id'].value_counts())"
   ]
  },
  {
   "cell_type": "markdown",
   "id": "fd4b039c-7e98-4f2f-9fd6-0e6bae26b620",
   "metadata": {},
   "source": [
    "Participant это скорее всего отдельные люди с которых собирались жесты. Для нас тут важно лишь то что данные не с одного человека и даже не с нескольких, тут данные с нескольких десятков участников, наша модель не будет учитывать особенности отдельных людей, более нас ничего в participant пока не интересует. "
   ]
  },
  {
   "cell_type": "code",
   "execution_count": 5,
   "id": "86ef5adf",
   "metadata": {
    "tags": []
   },
   "outputs": [
    {
     "data": {
      "text/html": [
       "<div>\n",
       "<style scoped>\n",
       "    .dataframe tbody tr th:only-of-type {\n",
       "        vertical-align: middle;\n",
       "    }\n",
       "\n",
       "    .dataframe tbody tr th {\n",
       "        vertical-align: top;\n",
       "    }\n",
       "\n",
       "    .dataframe thead th {\n",
       "        text-align: right;\n",
       "    }\n",
       "</style>\n",
       "<table border=\"1\" class=\"dataframe\">\n",
       "  <thead>\n",
       "    <tr style=\"text-align: right;\">\n",
       "      <th></th>\n",
       "      <th>frame</th>\n",
       "      <th>row_id</th>\n",
       "      <th>type</th>\n",
       "      <th>landmark_index</th>\n",
       "      <th>x</th>\n",
       "      <th>y</th>\n",
       "      <th>z</th>\n",
       "    </tr>\n",
       "  </thead>\n",
       "  <tbody>\n",
       "    <tr>\n",
       "      <th>0</th>\n",
       "      <td>20</td>\n",
       "      <td>20-face-0</td>\n",
       "      <td>face</td>\n",
       "      <td>0</td>\n",
       "      <td>0.494400</td>\n",
       "      <td>0.380470</td>\n",
       "      <td>-0.030626</td>\n",
       "    </tr>\n",
       "    <tr>\n",
       "      <th>1</th>\n",
       "      <td>20</td>\n",
       "      <td>20-face-1</td>\n",
       "      <td>face</td>\n",
       "      <td>1</td>\n",
       "      <td>0.496017</td>\n",
       "      <td>0.350735</td>\n",
       "      <td>-0.057565</td>\n",
       "    </tr>\n",
       "    <tr>\n",
       "      <th>2</th>\n",
       "      <td>20</td>\n",
       "      <td>20-face-2</td>\n",
       "      <td>face</td>\n",
       "      <td>2</td>\n",
       "      <td>0.500818</td>\n",
       "      <td>0.359343</td>\n",
       "      <td>-0.030283</td>\n",
       "    </tr>\n",
       "    <tr>\n",
       "      <th>3</th>\n",
       "      <td>20</td>\n",
       "      <td>20-face-3</td>\n",
       "      <td>face</td>\n",
       "      <td>3</td>\n",
       "      <td>0.489788</td>\n",
       "      <td>0.321780</td>\n",
       "      <td>-0.040622</td>\n",
       "    </tr>\n",
       "    <tr>\n",
       "      <th>4</th>\n",
       "      <td>20</td>\n",
       "      <td>20-face-4</td>\n",
       "      <td>face</td>\n",
       "      <td>4</td>\n",
       "      <td>0.495304</td>\n",
       "      <td>0.341821</td>\n",
       "      <td>-0.061152</td>\n",
       "    </tr>\n",
       "  </tbody>\n",
       "</table>\n",
       "</div>"
      ],
      "text/plain": [
       "   frame     row_id  type  landmark_index         x         y         z\n",
       "0     20  20-face-0  face               0  0.494400  0.380470 -0.030626\n",
       "1     20  20-face-1  face               1  0.496017  0.350735 -0.057565\n",
       "2     20  20-face-2  face               2  0.500818  0.359343 -0.030283\n",
       "3     20  20-face-3  face               3  0.489788  0.321780 -0.040622\n",
       "4     20  20-face-4  face               4  0.495304  0.341821 -0.061152"
      ]
     },
     "execution_count": 5,
     "metadata": {},
     "output_type": "execute_result"
    }
   ],
   "source": [
    "k = 0\n",
    "data = pd.read_parquet(path_and_labels.values[k, 0])\n",
    "data.head()"
   ]
  },
  {
   "cell_type": "code",
   "execution_count": 6,
   "id": "51247d3c-4da7-44a8-a7ae-45baf99f184c",
   "metadata": {
    "tags": []
   },
   "outputs": [
    {
     "data": {
      "text/plain": [
       "543"
      ]
     },
     "execution_count": 6,
     "metadata": {},
     "output_type": "execute_result"
    }
   ],
   "source": [
    "len(data[data.frame == 20])"
   ]
  },
  {
   "cell_type": "code",
   "execution_count": null,
   "id": "12958ef1-182d-4aaf-ba96-239ce6a4db36",
   "metadata": {
    "tags": []
   },
   "outputs": [
    {
     "data": {
      "text/plain": [
       "type\n",
       "face          468\n",
       "pose           33\n",
       "left_hand      21\n",
       "right_hand     21\n",
       "Name: count, dtype: int64"
      ]
     },
     "execution_count": 7,
     "metadata": {},
     "output_type": "execute_result"
    }
   ],
   "source": [
    "data[data.frame == 20].type.value_counts()"
   ]
  },
  {
   "cell_type": "code",
   "execution_count": 8,
   "id": "4c204280-3f05-4bea-a759-b135f2b71c80",
   "metadata": {
    "tags": []
   },
   "outputs": [
    {
     "name": "stdout",
     "output_type": "stream",
     "text": [
      "[0, 4, 6, 9, 13, 14, 17, 33, 37, 40, 46, 52, 55, 61, 65, 78, 81, 82, 84, 87, 91, 95, 101, 102, 107, 133, 145, 146, 148, 149, 159, 178, 185, 191, 195, 199, 205, 263, 267, 270, 276, 282, 285, 291, 295, 308, 311, 312, 314, 317, 321, 324, 330, 331, 336, 362, 374, 375, 377, 378, 386, 402, 409, 415, 425]\n",
      "\n",
      "[0, 4, 6, 9, 13, 14, 17, 33, 37, 40, 46, 52, 55, 61, 65, 78, 81, 82, 84, 87, 91, 95, 101, 102, 107, 133, 145, 146, 148, 149, 159, 178, 185, 191, 195, 199, 205, 263, 267, 270, 276, 282, 285, 291, 295, 308, 311, 312, 314, 317, 321, 324, 330, 331, 336, 362, 374, 375, 377, 378, 386, 402, 409, 415, 425, 468, 469, 470, 471, 472, 473, 474, 475, 476, 477, 478, 479, 480, 481, 482, 483, 484, 485, 486, 487, 488, 489, 490, 491, 492, 493, 494, 495, 496, 497, 498, 499, 500, 501, 502, 503, 504, 505, 506, 507, 508, 509, 510, 511, 512, 513, 514, 515, 516, 517, 518, 519, 520, 521, 522, 523, 524, 525, 526, 527, 528, 529, 530, 531, 532, 533, 534, 535, 536, 537, 538, 539, 540, 541, 542]\n",
      "140\n"
     ]
    }
   ],
   "source": [
    "face_points = [0, 4, 6, 9, 13, 14, 17, 33, 37, 40, 46, 52, 55,\n",
    "               61, 65, 78, 81, 82, 84, 87, 91, 95, 101, 102, 107,\n",
    "               133, 145, 146, 148, 149, 159, 178, 185, 191, 195,\n",
    "               199, 205, 263, 267, 270, 276, 282, 285, 291, 295,\n",
    "               308, 311, 312, 314, 317, 321, 324, 330, 331, 336,\n",
    "               362, 374, 375, 377, 378, 386, 402, 409, 415, 425]\n",
    "\n",
    "print(face_points)\n",
    "print()\n",
    "points = [*face_points, *range(468, 543)]\n",
    "print(points)\n",
    "print(len(points))"
   ]
  },
  {
   "cell_type": "code",
   "execution_count": 9,
   "id": "dad05ef4-efb7-4040-88bc-276ac7bc7b95",
   "metadata": {
    "tags": []
   },
   "outputs": [
    {
     "name": "stdout",
     "output_type": "stream",
     "text": [
      "torch.Size([1, 543, 3])\n",
      "torch.Size([1, 140, 3])\n",
      "torch.Size([1, 420])\n"
     ]
    }
   ],
   "source": [
    "k = 0\n",
    "\n",
    "data = pd.read_parquet(path_and_labels.values[k, 0])\n",
    "A = data.loc[data.frame == data.frame.value_counts().index[0],[\"x\", \"y\", \"z\"]]\n",
    "\n",
    "A = A.to_numpy().reshape(1, 543, 3)\n",
    "A = torch.tensor(A, dtype = torch.float32)\n",
    "print(A.shape)\n",
    "\n",
    "A = A[:, points]\n",
    "print(A.shape)\n",
    "\n",
    "A = A.reshape(1, -1)\n",
    "print(A.shape)"
   ]
  },
  {
   "cell_type": "code",
   "execution_count": 10,
   "id": "f5c36ec8-4789-47dd-a661-2e3e4c752bf0",
   "metadata": {
    "tags": []
   },
   "outputs": [
    {
     "name": "stdout",
     "output_type": "stream",
     "text": [
      "torch.Size([23, 543, 3])\n",
      "torch.Size([23, 140, 3])\n",
      "torch.Size([23, 420])\n"
     ]
    }
   ],
   "source": [
    "k = 0\n",
    "\n",
    "data = pd.read_parquet(path_and_labels.values[k, 0])\n",
    "B = data.loc[:,[\"x\", \"y\", \"z\"]]\n",
    "\n",
    "B = B.to_numpy().reshape(len(data)//543, 543, 3)\n",
    "B = torch.tensor(B, dtype=torch.float32)\n",
    "print(B.shape)\n",
    "\n",
    "B = B[:, points]\n",
    "print(B.shape)\n",
    "\n",
    "B = B.reshape(B.shape[0], -1)\n",
    "print(B.shape)"
   ]
  },
  {
   "cell_type": "code",
   "execution_count": 11,
   "id": "944e1236-c386-4329-8496-98554f766b62",
   "metadata": {
    "tags": []
   },
   "outputs": [],
   "source": [
    "class Tokenizer(nn.Module):\n",
    "    def __init__(self, embedding_dim):\n",
    "        super(Tokenizer, self).__init__()\n",
    "        self.embedding_dim = embedding_dim\n",
    "        self.hidden_dim = 512\n",
    "        \n",
    "        self.max_len_seq = 500\n",
    "        \n",
    "        self.FF = nn.Sequential(\n",
    "            nn.Linear(420, self.hidden_dim),\n",
    "            nn.ReLU(),\n",
    "            nn.Linear(self.hidden_dim, self.embedding_dim))\n",
    "            \n",
    "        self.position_encoding = self._create_position_encoding(self.embedding_dim, self.max_len_seq)\n",
    "        \n",
    "    def forward(self, x):\n",
    "        #x.shape == [0:self.max_seq, 1024] \n",
    "        x = torch.nan_to_num(x, nan=0)  # УБРАТЬ ПОСЛЕ ТОГО КАК ПОДГОТОВИМ ДАННЫЕ ДЛЯ ОБУЧЕНИЯ\n",
    "        x = self.FF(x)\n",
    "        x = x + self.position_encoding[x.size(0), :]\n",
    "        return x\n",
    "        \n",
    "    def _create_position_encoding(self, embedding_dim, max_seq_len):\n",
    "        position_encoding = torch.zeros(max_seq_len, embedding_dim)\n",
    "        for pos in range(max_seq_len):\n",
    "            for i in range(0, embedding_dim, 2):\n",
    "                position_encoding[pos, i] = np.sin(pos / (10000 ** ((2 * i)/embedding_dim)))\n",
    "                position_encoding[pos, i+1] = np.cos(pos / (10000 ** ((2 * (i+1))/embedding_dim)))\n",
    "        return position_encoding\n",
    "    "
   ]
  },
  {
   "cell_type": "code",
   "execution_count": 12,
   "id": "8487627e-8a93-41c3-9cdc-eda19f57f6d4",
   "metadata": {
    "tags": []
   },
   "outputs": [],
   "source": [
    "token = Tokenizer(512)"
   ]
  },
  {
   "cell_type": "code",
   "execution_count": 13,
   "id": "9785ad8d-3e19-45da-902d-fc4b1e46c0b6",
   "metadata": {
    "tags": []
   },
   "outputs": [
    {
     "data": {
      "text/plain": [
       "torch.Size([500, 512])"
      ]
     },
     "execution_count": 13,
     "metadata": {},
     "output_type": "execute_result"
    }
   ],
   "source": [
    "token.position_encoding.shape"
   ]
  },
  {
   "cell_type": "code",
   "execution_count": 14,
   "id": "e01d505d-11c5-437f-b246-9bd586283149",
   "metadata": {
    "tags": []
   },
   "outputs": [
    {
     "data": {
      "text/plain": [
       "Sequential(\n",
       "  (0): Linear(in_features=420, out_features=512, bias=True)\n",
       "  (1): ReLU()\n",
       "  (2): Linear(in_features=512, out_features=512, bias=True)\n",
       ")"
      ]
     },
     "execution_count": 14,
     "metadata": {},
     "output_type": "execute_result"
    }
   ],
   "source": [
    "token.FF"
   ]
  },
  {
   "cell_type": "code",
   "execution_count": 15,
   "id": "9177619f-0d99-40a2-acb2-38b9d03948d5",
   "metadata": {
    "tags": []
   },
   "outputs": [
    {
     "name": "stdout",
     "output_type": "stream",
     "text": [
      "torch.Size([23, 420])\n"
     ]
    },
    {
     "data": {
      "text/plain": [
       "torch.Size([23, 512])"
      ]
     },
     "execution_count": 15,
     "metadata": {},
     "output_type": "execute_result"
    }
   ],
   "source": [
    "print(B.shape)\n",
    "token(B).shape"
   ]
  },
  {
   "cell_type": "code",
   "execution_count": 16,
   "id": "24aa61f4-5936-45ba-a875-ba874952f32e",
   "metadata": {
    "tags": []
   },
   "outputs": [
    {
     "data": {
      "text/plain": [
       "=================================================================\n",
       "Layer (type:depth-idx)                   Param #\n",
       "=================================================================\n",
       "Tokenizer                                --\n",
       "├─Sequential: 1-1                        --\n",
       "│    └─Linear: 2-1                       215,552\n",
       "│    └─ReLU: 2-2                         --\n",
       "│    └─Linear: 2-3                       262,656\n",
       "=================================================================\n",
       "Total params: 478,208\n",
       "Trainable params: 478,208\n",
       "Non-trainable params: 0\n",
       "================================================================="
      ]
     },
     "execution_count": 16,
     "metadata": {},
     "output_type": "execute_result"
    }
   ],
   "source": [
    "torchinfo.summary(token)"
   ]
  },
  {
   "cell_type": "code",
   "execution_count": 107,
   "id": "c0ec37d7-7001-4fe6-aafc-47c5389862d3",
   "metadata": {
    "tags": []
   },
   "outputs": [],
   "source": [
    "class Transformer(nn.Module):\n",
    "    def __init__(self):\n",
    "        super().__init__()\n",
    "        self.d_model = 128\n",
    "        self.out_hid_dim = 512\n",
    "        self.num_MHA_layers = 8\n",
    "        \n",
    "        self.embeder = Tokenizer(self.d_model)\n",
    "        \n",
    "        self.TE = nn.TransformerEncoder(nn.TransformerEncoderLayer(self.d_model, nhead = 4, dim_feedforward=512), self.num_MHA_layers)\n",
    "        \n",
    "        self.outFF = nn.Sequential(\n",
    "            nn.Linear(self.d_model, self.out_hid_dim),\n",
    "            nn.ReLU(),\n",
    "            nn.Linear(self.out_hid_dim, 250),\n",
    "            nn.Softmax())\n",
    "        \n",
    "    def forward(self, x):\n",
    "        x = self.embeder(x)\n",
    "        x = self.TE(x)\n",
    "        x = x.mean(dim=0)\n",
    "        x = self.outFF(x)\n",
    "        return x\n",
    "        \n",
    "    "
   ]
  },
  {
   "cell_type": "code",
   "execution_count": 108,
   "id": "2fa16f2c-8e9d-46cb-ba0c-369350c7d914",
   "metadata": {
    "tags": []
   },
   "outputs": [],
   "source": [
    "trans = Transformer()"
   ]
  },
  {
   "cell_type": "code",
   "execution_count": 109,
   "id": "1e1c1b53-6219-46ac-ad4e-5b6465c5bfc1",
   "metadata": {
    "tags": []
   },
   "outputs": [
    {
     "data": {
      "text/plain": [
       "==========================================================================================\n",
       "Layer (type:depth-idx)                                            Param #\n",
       "==========================================================================================\n",
       "Transformer                                                       --\n",
       "├─Tokenizer: 1-1                                                  --\n",
       "│    └─Sequential: 2-1                                            --\n",
       "│    │    └─Linear: 3-1                                           215,552\n",
       "│    │    └─ReLU: 3-2                                             --\n",
       "│    │    └─Linear: 3-3                                           65,664\n",
       "├─TransformerEncoder: 1-2                                         --\n",
       "│    └─ModuleList: 2-2                                            --\n",
       "│    │    └─TransformerEncoderLayer: 3-4                          198,272\n",
       "│    │    └─TransformerEncoderLayer: 3-5                          198,272\n",
       "│    │    └─TransformerEncoderLayer: 3-6                          198,272\n",
       "│    │    └─TransformerEncoderLayer: 3-7                          198,272\n",
       "│    │    └─TransformerEncoderLayer: 3-8                          198,272\n",
       "│    │    └─TransformerEncoderLayer: 3-9                          198,272\n",
       "│    │    └─TransformerEncoderLayer: 3-10                         198,272\n",
       "│    │    └─TransformerEncoderLayer: 3-11                         198,272\n",
       "├─Sequential: 1-3                                                 --\n",
       "│    └─Linear: 2-3                                                66,048\n",
       "│    └─ReLU: 2-4                                                  --\n",
       "│    └─Linear: 2-5                                                128,250\n",
       "│    └─Softmax: 2-6                                               --\n",
       "==========================================================================================\n",
       "Total params: 2,061,690\n",
       "Trainable params: 2,061,690\n",
       "Non-trainable params: 0\n",
       "=========================================================================================="
      ]
     },
     "execution_count": 109,
     "metadata": {},
     "output_type": "execute_result"
    }
   ],
   "source": [
    "torchinfo.summary(trans)"
   ]
  },
  {
   "cell_type": "code",
   "execution_count": 110,
   "id": "07f47b24-481f-4134-b6c2-508bf86eb1c0",
   "metadata": {
    "tags": []
   },
   "outputs": [
    {
     "name": "stdout",
     "output_type": "stream",
     "text": [
      "torch.Size([11, 543, 3])\n",
      "torch.Size([11, 140, 3])\n",
      "torch.Size([11, 420])\n"
     ]
    }
   ],
   "source": [
    "k = 1\n",
    "\n",
    "data = pd.read_parquet(path_and_labels.values[k, 0])\n",
    "B = data.loc[:,[\"x\", \"y\", \"z\"]]\n",
    "\n",
    "B = B.to_numpy().reshape(len(data)//543, 543, 3)\n",
    "B = torch.tensor(B, dtype=torch.float32)\n",
    "print(B.shape)\n",
    "\n",
    "B = B[:, points]\n",
    "print(B.shape)\n",
    "\n",
    "B = B.reshape(B.shape[0], -1)\n",
    "print(B.shape)"
   ]
  },
  {
   "cell_type": "code",
   "execution_count": 114,
   "id": "72439f62-6a30-4f4e-988c-3524e5e0146d",
   "metadata": {
    "tags": []
   },
   "outputs": [
    {
     "name": "stdout",
     "output_type": "stream",
     "text": [
      "torch.Size([250])\n",
      "tensor(192)\n",
      "tensor(0.0078, grad_fn=<SelectBackward0>)\n",
      "tensor(1., grad_fn=<SumBackward0>)\n"
     ]
    }
   ],
   "source": [
    "print(trans(B).shape)\n",
    "print(torch.argmax(trans(B)))\n",
    "print(trans(B)[torch.argmax(trans(B))])\n",
    "print(torch.sum(trans(B)))"
   ]
  },
  {
   "cell_type": "code",
   "execution_count": 115,
   "id": "1703d000-18ee-4ef3-aeb8-75133c2211be",
   "metadata": {
    "tags": []
   },
   "outputs": [
    {
     "name": "stdout",
     "output_type": "stream",
     "text": [
      "[[2494.71486352 2522.20137069 2486.07244947 ... 2501.77147855\n",
      "  2506.76663437 2495.93293173]\n",
      " [2495.16367673 2474.49547426 2472.80387299 ... 2486.7408616\n",
      "  2483.58106683 2488.73319224]\n",
      " [2482.37054233 2507.74985623 2482.4590969  ... 2498.69524811\n",
      "  2499.03465422 2510.49698171]\n",
      " ...\n",
      " [2505.87670669 2485.42382205 2480.86654236 ... 2488.45465917\n",
      "  2470.72833679 2478.63945965]\n",
      " [2490.7092854  2493.22987929 2482.21846644 ... 2506.92615938\n",
      "  2494.5033894  2488.37671063]\n",
      " [2501.50635743 2516.51164471 2484.95728774 ... 2498.46621787\n",
      "  2491.26226584 2495.34031753]]\n"
     ]
    }
   ],
   "source": [
    "print(np.random.rand(10000, 10000) @ np.random.rand(10000, 10000))"
   ]
  },
  {
   "cell_type": "code",
   "execution_count": null,
   "id": "93c9b50c-8ca0-4d84-957f-1ba4e9fea71b",
   "metadata": {},
   "outputs": [],
   "source": []
  },
  {
   "cell_type": "code",
   "execution_count": null,
   "id": "3aeae453-9a29-4bfa-93f3-2ab2646157fb",
   "metadata": {},
   "outputs": [],
   "source": []
  },
  {
   "cell_type": "code",
   "execution_count": null,
   "id": "61608ec4-b12e-49a2-98d4-750e84d40361",
   "metadata": {},
   "outputs": [],
   "source": []
  },
  {
   "cell_type": "code",
   "execution_count": null,
   "id": "b15c3f63-9578-4c66-84e4-773ab0f74bb2",
   "metadata": {},
   "outputs": [],
   "source": []
  }
 ],
 "metadata": {
  "kernelspec": {
   "display_name": "Python 3 (ipykernel)",
   "language": "python",
   "name": "python3"
  },
  "language_info": {
   "codemirror_mode": {
    "name": "ipython",
    "version": 3
   },
   "file_extension": ".py",
   "mimetype": "text/x-python",
   "name": "python",
   "nbconvert_exporter": "python",
   "pygments_lexer": "ipython3",
   "version": "3.9.0"
  }
 },
 "nbformat": 4,
 "nbformat_minor": 5
}
